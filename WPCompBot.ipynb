{
 "cells": [
  {
   "cell_type": "code",
   "execution_count": 168,
   "metadata": {},
   "outputs": [
    {
     "name": "stdout",
     "output_type": "stream",
     "text": [
      "Wall time: 0 ns\n"
     ]
    }
   ],
   "source": [
    "%%time\n",
    "import praw\n",
    "import datetime\n",
    "import numpy as np\n",
    "import pandas as pd"
   ]
  },
  {
   "cell_type": "code",
   "execution_count": 169,
   "metadata": {},
   "outputs": [
    {
     "name": "stdout",
     "output_type": "stream",
     "text": [
      "True\n"
     ]
    }
   ],
   "source": [
    "import praw\n",
    "\n",
    "reddit = praw.Reddit(client_id='S7KAJs3nVTIVSA',\n",
    "                     client_secret='1q9mp08dEhzOSPXqHqtu16M6OZo',\n",
    "                     user_agent='WPComp:v1.0 (by /u/TheArch-Man)')\n",
    "\n",
    "print(reddit.read_only)"
   ]
  },
  {
   "cell_type": "code",
   "execution_count": 241,
   "metadata": {},
   "outputs": [],
   "source": [
    "master = praw.models.Submission(reddit, id = \"d7wqms\").comments"
   ]
  },
  {
   "cell_type": "code",
   "execution_count": 248,
   "metadata": {},
   "outputs": [],
   "source": [
    "post = praw.models.Submission(reddit, id = \"d7wqms\")"
   ]
  },
  {
   "cell_type": "code",
   "execution_count": 266,
   "metadata": {},
   "outputs": [
    {
     "name": "stdout",
     "output_type": "stream",
     "text": [
      "**Group A**\n",
      "\n",
      "\n",
      "* [Kuest in Jipon](https://redd.it/d7guol) - /u/babyshoesalesman - 2969\n",
      "babyshoesalesman\n",
      "* [Dance of Thunder](https://redd.it/d6z5dd) - /u/JoeMontano - 1914\n",
      "JoeMontano\n",
      "* [Quarantine](https://redd.it/d38mdn) - /u/nickofnight - 2996\n",
      "nickofnight\n",
      "* [Through the Light, Darkness Will Come ](https://redd.it/d4bzjf) - /u/PandaOne123 - 1526\n",
      "PandaOne123\n",
      "* [Green Eyes](https://redd.it/d6yaet) - /u/shh_i_am_thinking - 1519\n",
      "shh_i_am_thinking\n",
      "* [Ascension](https://redd.it/d7hvnl) - /u/SugarPixel - 2164\n",
      "SugarPixel\n",
      "* [Someday Never Comes](https://redd.it/d6nokc) - /u/TemporaryPatch - 2703\n",
      "TemporaryPatch\n",
      "* [Fimble Gets the Hiccups](https://redd.it/d587od) - /u/you-are-lovely - 2993\n",
      "you-are-lovely\n",
      "\n",
      "\n",
      "**Group B**\n",
      "\n",
      "\n",
      "* [Dreamspawn](https://redd.it/d56vu0) - /u/APromptResponse - 2996\n",
      "APromptResponse\n",
      "* [An Entropology](https://redd.it/d7j8aj) - /u/ArchipelagoMind - 2968\n",
      "ArchipelagoMind\n",
      "* [The Demon's Lullaby](https://redd.it/d3vuu6) - /u/DoppelgangerDelux - 2178\n",
      "DoppelgangerDelux\n",
      "* [Two Old Souls](https://redd.it/d3eed8) - /u/Periapoapsis - 1517\n",
      "Periapoapsis\n",
      "* [The Last Day of My Life](https://redd.it/d668p5) - /u/plsgivefeedback - 1528\n",
      "plsgivefeedback\n",
      "* [Time to Go](https://redd.it/d2uohy) - /u/SadByDesign - 1897\n",
      "SadByDesign\n",
      "* [In Song and Space](https://redd.it/d7df5e) - /u/Shadowyugi - 2993\n",
      "Shadowyugi\n",
      "* [Sing for  Absolution](https://redd.it/d6x39s) - /u/Steven_Lee - 2695\n",
      "Steven_Lee\n",
      "\n",
      "\n",
      "**Group C**\n",
      "\n",
      "\n",
      "* [An Old Friend](https://redd.it/d07nxt) - /u/BraveLittleAnt - 2304\n",
      "BraveLittleAnt\n",
      "* [Songs and Heroes](https://redd.it/d7ku4d) - /u/Errorwrites - 2940\n",
      "Errorwrites\n",
      "* [The Beast](https://redd.it/d7mhib) - /u/Farengeto - 1654\n",
      "Farengeto\n",
      "* [Unspeakable Acts](https://redd.it/d7i614) - /u/iruleatants - 1509\n",
      "iruleatants\n",
      "* [Little Red](https://redd.it/d24hjv) - /u/nazna - 1800\n",
      "nazna\n",
      "* [Only Cerulean Blue Will Suffice](https://redd.it/d5nchy) - /u/Ninjoobot - 2634\n",
      "Ninjoobot\n",
      "* [Vicious Ellipse](https://redd.it/d7e1i2) - /u/psalmoflament - 2991\n",
      "psalmoflament\n",
      "* [Nothing Gold Can Stay](https://redd.it/d7h1ju) - /u/resonatingfury - 2986\n",
      "resonatingfury\n",
      "\n",
      "\n",
      "**Group D**\n",
      "\n",
      "\n",
      "* [Some Random Thoughts When Winter Comes](https://redd.it/d469gb) - /u/choppoch - 2156\n",
      "choppoch\n",
      "* [The maze of Alkaa ](https://redd.it/d5b9pr) - /u/dougy123456789 - 2832\n",
      "dougy123456789\n",
      "* [Farewell, My Mousey](https://redd.it/d6ty49) - /u/Kammerice - 2996\n",
      "Kammerice\n",
      "* [White City](https://redd.it/d6bx9c) - /u/Knife211 - 2990\n",
      "Knife211\n",
      "* [Ouroboros](https://redd.it/d5ml96) - /u/mattswritingaccount - 2002\n",
      "mattswritingaccount\n",
      "* [Sweet Offerings](https://redd.it/d7mzb9) - /u/rarelyfunny - 2740\n",
      "rarelyfunny\n",
      "* [THE END OF THE LOOP](https://redd.it/d36lzz) - /u/TheReal_FirePyre - 2998\n",
      "TheReal_FirePyre\n",
      "\n",
      "\n",
      "**Group E**\n",
      "\n",
      "\n",
      "* [Rehabilitation](https://redd.it/d7bjz4) - /u/iatemywords - 2046\n",
      "iatemywords\n",
      "* [It Ends, and It Never Begins Again](https://redd.it/d5glh8) - /u/nisoren - 2995\n",
      "nisoren\n",
      "* [Arvor's Last Day](https://redd.it/d7juns) - /u/NoahElowyn - 2999\n",
      "NoahElowyn\n",
      "* [~~The Awakening~~](https://redd.it/d7fwqe) - ~~/u/penguin347 - 2998~~ - Entry deleted by user\n",
      "* [Never Visit the Future](https://redd.it/d2b0do) - /u/rudexvirus - 1725\n",
      "rudexvirus\n",
      "* [Skin and Blood and Bone](https://redd.it/d7mtmi) - /u/scottbeckman - 2988\n",
      "scottbeckman\n",
      "* [Don't Sing My Dead Hymns](https://redd.it/d7n00u) - /u/veryedible - 2997\n",
      "veryedible\n",
      "\n",
      "\n",
      "**Group F**\n",
      "\n",
      "\n",
      "* [The Way Things Are](https://redd.it/d6f268) - /u/countessellis - 2487\n",
      "countessellis\n",
      "* [Anna and Jude and the End of Everything](https://redd.it/d7lpda) - /u/LisWrites - 2987\n",
      "LisWrites\n",
      "* [A Spark](https://redd.it/d7e32d) - /u/Palmerranian - 2994\n",
      "Palmerranian\n",
      "* [The Death of PhoenixMan](https://redd.it/d6d92c) - /u/RemixPhoenix - 2771\n",
      "RemixPhoenix\n",
      "* [Sixteen Seventeen](https://redd.it/d7j2zx) - /u/TA_Account_12 - 2798\n",
      "TA_Account_12\n",
      "* [To Be Free](https://redd.it/d7mztt) - /u/XcessiveSmash - 2997\n",
      "XcessiveSmash\n",
      "* [Paradise](https://redd.it/d7gr08) - /u/Zeconation - 1752\n",
      "Zeconation\n",
      "\n",
      "\n",
      "**Group G**\n",
      "\n",
      "\n",
      "* [The Nursery Rhyme Killer](https://redd.it/d6qci7) - /u/ecstaticandinsatiate - 2996\n",
      "ecstaticandinsatiate\n",
      "* [Through the Portal](https://redd.it/d4x3pt) - /u/Ford9863 - 2825\n",
      "Ford9863\n",
      "* [Iris](https://redd.it/d7caol) - /u/Leebeewilly - 2999\n",
      "Leebeewilly\n",
      "* [The Dark Menagerie](https://redd.it/d7d934) - /u/novatheelf - 1941\n",
      "novatheelf\n",
      "* [Watching for Grizzlies](https://redd.it/d0su3j) - /u/PxPxo - 2993\n",
      "PxPxo\n",
      "* [A Mother’s Love](https://redd.it/d65t9o) - /u/Vagunda - 2516\n",
      "Vagunda\n",
      "* [A Bomb Zooming Toward Topeka](https://redd.it/d7n0vu) - /u/zebulonworkshop - 2449\n",
      "zebulonworkshop\n",
      "\n",
      "\n",
      "**Group H**\n",
      "\n",
      "\n",
      "* [Bluebird](https://redd.it/d53ty0) - /u/BLT_WITH_RANCH - 2997\n",
      "BLT_WITH_RANCH\n",
      "* [The Story No One Tells](https://redd.it/d7meaf) - /u/breadyly - 2550\n",
      "breadyly\n",
      "* [Hopeful Denial](https://redd.it/d685v2) - /u/elfboyah - 3000\n",
      "elfboyah\n",
      "* [The Wrong Side](https://redd.it/d5kfgw) - /u/potatovisage - 1927\n",
      "potatovisage\n",
      "* [Yague](https://redd.it/d5qp4b) - /u/soenottelling - 2982\n",
      "soenottelling\n",
      "* [Death Wish](https://redd.it/d42pls) - /u/whiterush17 - 2345\n",
      "whiterush17\n",
      "* [Food for Thought](https://redd.it/d46ss2) - /u/WokCano - 2993\n",
      "WokCano\n",
      "\n",
      "\n"
     ]
    }
   ],
   "source": [
    "doc = post.selftext.split(\"\\n\")\n",
    "\n",
    "for cnt in range(len(doc)):\n",
    "    line = doc[cnt]\n",
    "    if \"**Group\" in line:\n",
    "        print(line)\n",
    "        cnt += 1\n",
    "        line = doc[cnt]\n",
    "        while(\"Group\" not in line):\n",
    "            print(line)\n",
    "            if \"Entry deleted by user\" in line:\n",
    "                cnt += 1\n",
    "                line= doc[cnt]\n",
    "                continue\n",
    "            user = line[line.find(\"u/\"):]\n",
    "            user = user[2:user.find(\" \")]\n",
    "            print(user)\n",
    "            cnt += 1\n",
    "            line = doc[cnt]"
   ]
  },
  {
   "cell_type": "code",
   "execution_count": 243,
   "metadata": {},
   "outputs": [
    {
     "name": "stdout",
     "output_type": "stream",
     "text": [
      "Parsing error\n",
      "**all top-replies to this post must be a vote.**  reply here for any non-vote comments.  ([gifs encouraged](https://thumbs.gfycat.com/frighteningprestigiousfluke-size_restricted.gif))\n",
      "TAKE []\n",
      "f15b6b0\n",
      "**************************\n",
      "noahelowyn\n",
      "scottbeckman\n",
      "iatemywords\n",
      "**************************\n",
      "elfboyah\n",
      "whiterush17\n",
      "breadyly\n",
      "**************************\n",
      "resonatingfury\n",
      "psalmoflament\n",
      "farengeto\n",
      "**************************\n",
      "nickofnight\n",
      "babyshoesalesman\n",
      "you-are-lovely\n",
      "**************************\n",
      "noahelowyn\n",
      "scottbeckman\n",
      "veryedible\n",
      "**************************\n",
      "you-are-lovely\n",
      "nickofnight\n",
      "babyshoesalesman\n",
      "**************************\n",
      "steven_lee\n",
      "doppelgangerdelux\n",
      "archipelagomind\n",
      "**************************\n",
      "thereal_firepyre\n",
      "rarelyfunny\n",
      "dougy123456789\n",
      "**************************\n",
      "shh_i_am_thinking\n",
      "nickofnight\n",
      "babyshoesalesman\n",
      "**************************\n",
      "archipelagomind\n",
      "apromptresponse\n",
      "doppelgangerdelux\n",
      "**************************\n",
      "you-are-lovely\n",
      "nickofnight\n",
      "temporarypatch\n",
      "**************************\n",
      "archipelagomind\n",
      "doppelgangerdelux\n",
      "steven_lee\n",
      "**************************\n",
      "nisoren\n",
      "rudexvirus\n",
      "veryedible\n",
      "**************************\n",
      "sadbydesign\n",
      "apromptresponse\n",
      "steven_lee\n",
      "**************************\n",
      "ninjoobot\n",
      "resonatingfury\n",
      "farengeto\n",
      "**************************\n",
      "breadyly\n",
      "wokcano\n",
      "blt_with_ranch\n",
      "**************************\n",
      "dougy123456789\n",
      "mattswritingaccount\n",
      "kammerice\n",
      "**************************\n",
      "Parsing error\n",
      "voting for group d  \n",
      "\n",
      "1 farewell, my mousey by /u/kammerice  \n",
      "really nice tone  \n",
      "2 the maze of alkaa by /u/dougy123456789  \n",
      "3 ouroboros by /u/mattswritingaccount  \n",
      "dope poem!\n",
      "TAKE []\n",
      "f1qq7px\n",
      "**************************\n",
      "iatemywords\n",
      "nisoren\n",
      "noahelowyn\n",
      "**************************\n",
      "breadyly\n",
      "wokcano\n",
      "blt_with_ranch\n",
      "**************************\n",
      "ecstaticandinsatiate\n",
      "ford9863\n",
      "zebulonworkshops\n",
      "**************************\n",
      "liswrites\n",
      "xcessivesmash\n",
      "palmerranian\n",
      "**************************\n",
      "veryedible\n",
      "rudexvirus\n",
      "scottbeckman\n",
      "**************************\n",
      "kammerice\n",
      "thereal_firepyre\n",
      "knife211\n",
      "**************************\n",
      "knife211\n",
      "kammerice\n",
      "rarelyfunny\n",
      "**************************\n",
      "noahelowyn\n",
      "veryedible\n",
      "scottbeckman\n",
      "**************************\n",
      "plsgivefeedback\n",
      "doppelgangerdelux\n",
      "shadowyugi\n",
      "**************************\n",
      "resonatingfury\n",
      "bravelittleant\n",
      "farengeto\n",
      "**************************\n",
      "ecstaticandinsatiate\n",
      "pxpxo\n",
      "leebeewilly\n",
      "**************************\n",
      "pxpxo\n",
      "zebulonworkshops\n",
      "leebeewilly\n",
      "**************************\n",
      "ecstaticandinsatiate\n",
      "leebeewilly\n",
      "novatheelf\n",
      "**************************\n",
      "blt_with_ranch\n",
      "soenottelling\n",
      "wokcano\n",
      "**************************\n",
      "blt_with_ranch\n",
      "wokcano\n",
      "whiterush17\n",
      "**************************\n",
      "liswrites\n",
      "palmerranian\n",
      "xcessivesmash\n",
      "**************************\n",
      "resonatingfury\n",
      "errorwrites\n",
      "farengeto\n",
      "**************************\n",
      "you-are-lovely\n",
      "nickofnight\n",
      "babyshoesalesman\n",
      "**************************\n",
      "whiterush17\n",
      "blt_with_ranch\n",
      "soenottelling\n",
      "**************************\n",
      "shadowyugi\n",
      "apromptresponse\n",
      "doppelgangerdelux\n",
      "**************************\n",
      "nisoren\n",
      "veryedible\n",
      "noahelowyn\n",
      "**************************\n"
     ]
    }
   ],
   "source": [
    "manuals = []\n",
    "for top_level_comment in master:\n",
    "    #print(top_level_comment.body.lower().split(\"\\n\"))\n",
    "    places = parseVote(top_level_comment.body.lower())\n",
    "    if(len(places) != 3):\n",
    "        print(\"Parsing error\")\n",
    "        print(top_level_comment.body.lower())\n",
    "        print(\"TAKE\", places)\n",
    "        print(top_level_comment.id)\n",
    "        manuals.append(top_level_comment.id)\n",
    "    else:\n",
    "        bool parsed = True\n",
    "        for acct in places:\n",
    "            print(acct)\n",
    "            user = reddit.redditor(acct)\n",
    "            try:\n",
    "                user.link_karma\n",
    "            except:\n",
    "                parsed = False\n",
    "                print(\"UserNotFound error\", user)\n",
    "                print(top_level_comment.body.lower())\n",
    "                print(top_level_comment.id)\n",
    "                manuals.append(top_level_comment.id)\n",
    "            if parsed:\n",
    "                \n",
    "    print(\"**************************\")\n",
    "manuals.remove(\"f15b6b0\")"
   ]
  },
  {
   "cell_type": "code",
   "execution_count": 174,
   "metadata": {},
   "outputs": [
    {
     "name": "stdout",
     "output_type": "stream",
     "text": [
      " **1st Place**:  [/u/nisoren](https://www.reddit.com/u/nisoren/) in group E for \"It Ends, and It Never Begins Again\" \n",
      "\n",
      "**2nd Place**:  [/u/veryedible](https://www.reddit.com/u/veryedible/) in group E for \"Don't Sing My Dead Hymns\" \n",
      "\n",
      "**3rd Place**:  [/u/NoahElowyn](https://www.reddit.com/u/NoahElowyn/) in group E for \"Arvor's Last Day\"\n"
     ]
    }
   ],
   "source": [
    "print(top_level_comment.body)"
   ]
  },
  {
   "cell_type": "code",
   "execution_count": 267,
   "metadata": {},
   "outputs": [],
   "source": [
    "class vote:\n",
    "    def __init__(self, fp, sp, tp, forG, fromG, user, cuc):\n",
    "        self.first = fp\n",
    "        self.second - sp\n",
    "        self.third = tp\n",
    "        self.forGroup = forG\n",
    "        self.fromG = fromG\n",
    "        self.author = user\n",
    "        self.birth = cuc"
   ]
  },
  {
   "cell_type": "code",
   "execution_count": 269,
   "metadata": {},
   "outputs": [
    {
     "data": {
      "text/plain": [
       "7"
      ]
     },
     "execution_count": 269,
     "metadata": {},
     "output_type": "execute_result"
    }
   ],
   "source": [
    "[\"A\", \"B\", \"C\", \"D\", \"E\", \"F\", \"G\", \"H\"].index(\"H\")"
   ]
  },
  {
   "cell_type": "code",
   "execution_count": 41,
   "metadata": {},
   "outputs": [
    {
     "data": {
      "text/plain": [
       "'e'"
      ]
     },
     "execution_count": 41,
     "metadata": {},
     "output_type": "execute_result"
    }
   ],
   "source": [
    "top_level_comment.body.find(\"1st Place\")\n",
    "top_level_comment.body[51]"
   ]
  },
  {
   "cell_type": "code",
   "execution_count": 232,
   "metadata": {},
   "outputs": [],
   "source": [
    "def parseVote(inpt):\n",
    "    placements = []\n",
    "    if inpt.find(\"first\") == -1 and inpt.find(\"1st\") != -1:\n",
    "        #print(\"CASE1\")\n",
    "        keys = [\"1st\", \"2nd\", \"3rd\"]\n",
    "    elif inpt.find(\"first\") > inpt.find(\"1st\") and inpt.find(\"1st\") != -1:\n",
    "        #print(\"CASE2\")\n",
    "        keys = [\"1st\", \"2nd\", \"3rd\"]\n",
    "    else:\n",
    "        keys = [\"first\", \"second\", \"third\"]\n",
    "    for place in keys:\n",
    "        #print(place)\n",
    "        inpt = inpt.replace(\"]\", \" \")\n",
    "        inpt = inpt.replace(\"\\n\", \" \")\n",
    "        inpt = inpt.replace(\"\\\\\", \"\")\n",
    "        #inpt = inpt.replace(\"xa0in\", \"\")\n",
    "        #print(\"SAMPLE\", inpt)\n",
    "        #print(inpt.find(place))\n",
    "        inpt = inpt[inpt.find(place):]\n",
    "        #print(\"SAMPLE2\", inpt)\n",
    "        inpt = inpt[inpt.find(\"u/\"):]\n",
    "        #print(\"SAMPLE3\", inpt)\n",
    "        temp = inpt[2:inpt.find(\" \")].split(\" \")[0]\n",
    "        #print(temp)\n",
    "        if len(temp) != 0:\n",
    "            placements.append(temp)\n",
    "        #print(\"**********\")\n",
    "    for x in placements:\n",
    "        if x == 'veryedible\\xa0in':\n",
    "            placements.remove('veryedible\\xa0in')\n",
    "            placements.append('veryedible')\n",
    "    return(placements)"
   ]
  },
  {
   "cell_type": "code",
   "execution_count": 233,
   "metadata": {},
   "outputs": [],
   "source": [
    "samps = \"*  1st place:** /u/nisoren in group e for it ends, and it never begins again * **2nd place:** /u/rudexvirus in group e for never visit the future * **3rd place:** /u/veryedible in group e for don't sing my dead hymns\""
   ]
  },
  {
   "cell_type": "code",
   "execution_count": 234,
   "metadata": {},
   "outputs": [
    {
     "data": {
      "text/plain": [
       "['nisoren', 'rudexvirus', 'veryedible']"
      ]
     },
     "execution_count": 234,
     "metadata": {},
     "output_type": "execute_result"
    }
   ],
   "source": [
    "samps = praw.models.Comment(reddit, id = \"f1761c8\").body\n",
    "parseVote(samps)"
   ]
  },
  {
   "cell_type": "code",
   "execution_count": 275,
   "metadata": {},
   "outputs": [
    {
     "name": "stdout",
     "output_type": "stream",
     "text": [
      "xcessivesmash\n"
     ]
    }
   ],
   "source": [
    "user = reddit.redditor('XcessiveSmash')\n",
    "try:\n",
    "    user.link_karma\n",
    "    print(user.name.lower())\n",
    "except:\n",
    "    print(\"FLA\")"
   ]
  },
  {
   "cell_type": "code",
   "execution_count": 211,
   "metadata": {},
   "outputs": [
    {
     "name": "stdout",
     "output_type": "stream",
     "text": [
      "*  **1st Place:** /u/nisoren in group E for \"It Ends, and It Never Begins Again\"\n",
      "* **2nd Place:** /u/rudexvirus in group E for \"Never Visit the Future\"\n",
      "* **3rd Place:** /u/veryedible in group E for \"Don't Sing My Dead Hymns\"\n"
     ]
    }
   ],
   "source": [
    "print(samps)"
   ]
  },
  {
   "cell_type": "code",
   "execution_count": 247,
   "metadata": {},
   "outputs": [],
   "source": [
    "?top_level_comment"
   ]
  },
  {
   "cell_type": "code",
   "execution_count": null,
   "metadata": {},
   "outputs": [],
   "source": []
  }
 ],
 "metadata": {
  "kernelspec": {
   "display_name": "Python (intro-to-ml)",
   "language": "python",
   "name": "intro-to-ml"
  },
  "language_info": {
   "codemirror_mode": {
    "name": "ipython",
    "version": 3
   },
   "file_extension": ".py",
   "mimetype": "text/x-python",
   "name": "python",
   "nbconvert_exporter": "python",
   "pygments_lexer": "ipython3",
   "version": "3.6.5"
  }
 },
 "nbformat": 4,
 "nbformat_minor": 2
}
